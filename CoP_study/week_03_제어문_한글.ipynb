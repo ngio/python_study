{
 "cells": [
  {
   "cell_type": "code",
   "execution_count": 29,
   "id": "72b4cbf6",
   "metadata": {},
   "outputs": [
    {
     "name": "stdout",
     "output_type": "stream",
     "text": [
      "<class 'list'> 의 길이는  7 \n",
      "\n",
      "\n",
      "3주차 교육\n",
      "     수요일(11월 30일) GS.A 오후 2시 30분~ 4시 30분까지 진행\n",
      "3주차 : 제어문\n",
      "     전처리\n",
      "     빈도수 추출 한글 단어\n",
      "     단어 추가\n",
      "     추출 단어 파일 저장\n",
      "\n",
      "\n",
      " <class 'str'> 의 길이는  111 \n",
      "\n",
      "\n",
      "('3주차 교육     수요일(11월 30일) GS.A 오후 2시 30분~ 4시 30분까지 진행3주차 : 제어문     전처리     빈도수 '\n",
      " '추출 한글 단어     단어 추가     추출 단어 파일 저장')\n"
     ]
    }
   ],
   "source": [
    "title = [ \"3주차 교육\",\"     수요일(11월 30일) GS.A 오후 2시 30분~ 4시 30분까지 진행\"\n",
    "         ,\"3주차 : 제어문\",\"     전처리\",\"     빈도수 추출 한글 단어\"\n",
    "         ,\"     단어 추가\",\"     추출 단어 파일 저장\"]\n",
    "\n",
    "print(type(title), \"의 길이는 \", len(title) ,\"\\n\\n\")\n",
    "\n",
    "\n",
    "i = 0 # 변수 초기화\n",
    "while i < len(title):\n",
    "    print(title[i])\n",
    "    i = i + 1  # 변수 1씩 증가해서 위 while 문 조건절을 나가야 한다.\n",
    "\n",
    "title_str = ''.join(title)    # 리스트의 문자열을 모두 하나의 문장으로 합친다.\n",
    "print( \"\\n\\n\", type(title_str), \"의 길이는 \", len(title_str) ,\"\\n\\n\")\n",
    "\n",
    "\n",
    "pprint(title_str)"
   ]
  },
  {
   "cell_type": "code",
   "execution_count": 8,
   "id": "f06e39d8",
   "metadata": {},
   "outputs": [
    {
     "data": {
      "text/plain": [
       "list"
      ]
     },
     "execution_count": 8,
     "metadata": {},
     "output_type": "execute_result"
    }
   ],
   "source": [
    "a = [(1,2), (3,4), (5,6)]\n",
    "type(a)\n",
    "\n",
    "2 * 2 =  \n",
    "2* 3 = "
   ]
  },
  {
   "cell_type": "code",
   "execution_count": 1,
   "id": "24df85f4",
   "metadata": {
    "scrolled": true
   },
   "outputs": [
    {
     "name": "stdout",
     "output_type": "stream",
     "text": [
      "걸어가라\n"
     ]
    }
   ],
   "source": [
    "\"\"\" IF  https://wikidocs.net/20\n",
    "    조건문에서 \"조건문\"이란 참과 거짓을 판단하는 문장을 말한다. \n",
    "\"\"\"\n",
    "money = 2000\n",
    "if money >= 3000:\n",
    "    print(\"택시를 타고 가라\")\n",
    "else:\n",
    "    print(\"걸어가라\")\n",
    "    \n"
   ]
  },
  {
   "cell_type": "code",
   "execution_count": 10,
   "id": "1e2e0c4a",
   "metadata": {},
   "outputs": [
    {
     "name": "stdout",
     "output_type": "stream",
     "text": [
      "택시를 타고가라 2\n"
     ]
    }
   ],
   "source": [
    "\"\"\" IF  다중 조건 판단을 가능하게 하는 elif \"\"\"\n",
    "pocket = ['paper', 'cellphone']\n",
    "card = True\n",
    "if 'money' in pocket:\n",
    "     print(\"택시를 타고가라 1\")\n",
    "elif card: \n",
    "     print(\"택시를 타고가라 2\")\n",
    "else:\n",
    "     print(\"걸어가라\")"
   ]
  },
  {
   "cell_type": "code",
   "execution_count": 12,
   "id": "1b0381d2",
   "metadata": {},
   "outputs": [
    {
     "name": "stdout",
     "output_type": "stream",
     "text": [
      "failure\n",
      "failure \n"
     ]
    }
   ],
   "source": [
    "\"\"\" IF 조건부 표현식 \n",
    "    변수 = 조건문이_참인_경우의_값 if 조건문 else 조건문이_거짓인_경우의_값\n",
    "\"\"\"\n",
    "score = 50\n",
    "\n",
    "if score >= 60:\n",
    "    message = \"success\"\n",
    "else:\n",
    "    message = \"failure\"\n",
    "print(message)\n",
    "\n",
    "message1 = \"success\" if score >= 60 else \"failure \" \n",
    "print(message1)\n"
   ]
  },
  {
   "cell_type": "code",
   "execution_count": 18,
   "id": "8ce5dcaf",
   "metadata": {},
   "outputs": [
    {
     "name": "stdout",
     "output_type": "stream",
     "text": [
      "나무를 1번 찍었습니다.\n",
      "ing~\n",
      "나무를 2번 찍었습니다.\n",
      "ing~\n",
      "나무를 3번 찍었습니다.\n",
      "ing~\n",
      "나무를 4번 찍었습니다.\n",
      "ing~\n",
      "나무를 5번 찍었습니다.\n",
      "ing~\n",
      "나무를 6번 찍었습니다.\n",
      "ing~\n",
      "나무를 7번 찍었습니다.\n",
      "ing~\n",
      "나무를 8번 찍었습니다.\n",
      "ing~\n",
      "나무를 9번 찍었습니다.\n",
      "ing~\n",
      "나무를 10번 찍었습니다.\n",
      "ing~\n",
      "나무 넘어갑니다.\n",
      "end\n"
     ]
    }
   ],
   "source": [
    "\"\"\" while   https://wikidocs.net/21\n",
    "    반복해서 문장을 수행해야 할 경우\n",
    "    while문은 조건문이 참인 동안에 while문에 속한 문장들이 반복해서 수행\n",
    "\"\"\"\n",
    "treeHit = 0\n",
    "while treeHit < 10:\n",
    "    treeHit = treeHit +1\n",
    "    print(\"나무를 %d번 찍었습니다.\" % treeHit)\n",
    "    #if(treeHit == 3):\n",
    "    #    break;          ### while문 강제로 빠져나가기\n",
    "    print(\"ing~\")\n",
    "\n",
    "    if treeHit == 10:\n",
    "        print(\"나무 넘어갑니다.\")\n",
    "        \n",
    "        \n",
    "print(\"end\")"
   ]
  },
  {
   "cell_type": "code",
   "execution_count": 19,
   "id": "7ea03de5",
   "metadata": {},
   "outputs": [
    {
     "name": "stdout",
     "output_type": "stream",
     "text": [
      "돈을 넣어 주세요: 200\n",
      "돈을 다시 돌려주고 커피를 주지 않습니다.\n",
      "남은 커피의 양은 3개 입니다.\n",
      "돈을 넣어 주세요: 500\n",
      "거스름돈 200를 주고 커피를 줍니다.\n",
      "돈을 넣어 주세요: 500\n",
      "거스름돈 200를 주고 커피를 줍니다.\n",
      "돈을 넣어 주세요: 300\n",
      "커피를 줍니다.\n",
      "커피가 다 떨어졌습니다. 판매를 중지 합니다.\n"
     ]
    }
   ],
   "source": [
    "coffee = 3\n",
    "while True:\n",
    "    money = int(input(\"돈을 넣어 주세요: \"))\n",
    "    if money == 300:\n",
    "        print(\"커피를 줍니다.\")\n",
    "        coffee = coffee -1\n",
    "    elif money > 300:\n",
    "        print(\"거스름돈 %d를 주고 커피를 줍니다.\" % (money -300))\n",
    "        coffee = coffee -1\n",
    "    else:\n",
    "        print(\"돈을 다시 돌려주고 커피를 주지 않습니다.\")\n",
    "        print(\"남은 커피의 양은 %d개 입니다.\" % coffee)\n",
    "    if coffee == 0:\n",
    "        print(\"커피가 다 떨어졌습니다. 판매를 중지 합니다.\")\n",
    "        break"
   ]
  },
  {
   "cell_type": "code",
   "execution_count": 21,
   "id": "2195506a",
   "metadata": {},
   "outputs": [
    {
     "name": "stdout",
     "output_type": "stream",
     "text": [
      "1\n",
      "3\n",
      "5\n",
      "7\n",
      "9\n"
     ]
    }
   ],
   "source": [
    "\"\"\" while문의 맨 처음으로 돌아가기 \"\"\"\n",
    "a = 0\n",
    "while a < 10:\n",
    "    a = a + 1\n",
    "    if a % 2 == 0: continue\n",
    "    print(a)"
   ]
  },
  {
   "cell_type": "code",
   "execution_count": 5,
   "id": "4ceae955",
   "metadata": {},
   "outputs": [
    {
     "name": "stdout",
     "output_type": "stream",
     "text": [
      "one\n",
      "two\n",
      "three\n",
      "3\n",
      "7\n",
      "11\n"
     ]
    }
   ],
   "source": [
    "\"\"\" for 문  https://wikidocs.net/22\n",
    "    리스트나 튜플, 문자열의 첫 번째 요소부터 마지막 요소까지 차례로 변수에 대입되어 \"수행할 문장1\", \"수행할 문장2\" 등이 수행된다.\n",
    "\n",
    "\"\"\"\n",
    "test_list = ['one', 'two', 'three'] \n",
    "for i in test_list: \n",
    "    print(i)\n",
    "\n",
    "a = [(1,2), (3,4), (5,6)]\n",
    "for (first, last) in a:\n",
    "    print(first + last)"
   ]
  },
  {
   "cell_type": "code",
   "execution_count": 52,
   "id": "2b69d463",
   "metadata": {},
   "outputs": [
    {
     "name": "stdout",
     "output_type": "stream",
     "text": [
      "2 4 6 8 10 12 14 16 18 \n",
      "3 6 9 12 15 18 21 24 27 \n",
      "4 8 12 16 20 24 28 32 36 \n",
      "5 10 15 20 25 30 35 40 45 \n",
      "6 12 18 24 30 36 42 48 54 \n",
      "7 14 21 28 35 42 49 56 63 \n",
      "8 16 24 32 40 48 56 64 72 \n",
      "9 18 27 36 45 54 63 72 81 \n",
      "24681012141618  \n",
      "369121518212427  \n",
      "4812162024283236  \n",
      "51015202530354045  \n",
      "61218243036424854  \n",
      "71421283542495663  \n",
      "81624324048566472  \n",
      "91827364554637281  \n"
     ]
    }
   ],
   "source": [
    "for i in range(2,10):        # 1번 for문\n",
    "    for j in range(1, 10):   # 2번 for문\n",
    "        print(i*j, end=\" \") \n",
    "    print('') \n",
    "    \"\"\n",
    "for i in range(2,10):        # 1번 for문\n",
    "    gugu = \"\"\n",
    "    for j in range(1, 10):   # 2번 for문\n",
    "        gugu += str(i*j)\n",
    "    print( gugu,' ') "
   ]
  },
  {
   "cell_type": "code",
   "execution_count": 39,
   "id": "07bc7000",
   "metadata": {
    "scrolled": true
   },
   "outputs": [
    {
     "name": "stdout",
     "output_type": "stream",
     "text": [
      "1 번 학생은 합격입니다.\n",
      "2 2 번 학생은 불합격입니다.\n",
      "3 번 학생은 합격입니다.\n",
      "4 4 번 학생은 불합격입니다.\n",
      "5 번 학생은 합격입니다.\n",
      "1번 학생 축하합니다. 합격입니다. \n",
      "3번 학생 축하합니다. 합격입니다. \n",
      "5번 학생 축하합니다. 합격입니다. \n"
     ]
    }
   ],
   "source": [
    "marks = [90, 25, 67, 45, 80]\n",
    "\n",
    "number = 0 \n",
    "for mark in marks: \n",
    "    number = number +1 \n",
    "    if mark >= 60: \n",
    "        print( number, \"번 학생은 합격입니다.\")\n",
    "    else: \n",
    "        print(\"%d %s 번 학생은 불합격입니다.\" % (number , number)  )\n",
    "number = 0 \n",
    "for mark in marks: \n",
    "    number = number +1 \n",
    "    if mark < 60:\n",
    "        continue \n",
    "    print(\"%d번 학생 축하합니다. 합격입니다. \" % number)        "
   ]
  },
  {
   "cell_type": "code",
   "execution_count": 53,
   "id": "8cb42fc9",
   "metadata": {
    "scrolled": true
   },
   "outputs": [
    {
     "name": "stdout",
     "output_type": "stream",
     "text": [
      "['네, 안녕하세요.', '반갑습니다.']\n",
      "['질문', '건의', '건의사항', '사항', '깃헙', '이슈', '트래커']\n",
      "[('오류', 'NNG'),\n",
      " ('보고', 'NNG'),\n",
      " ('는', 'JX'),\n",
      " ('실행', 'NNG'),\n",
      " ('환경', 'NNG'),\n",
      " (',', 'SP'),\n",
      " ('에러', 'NNG'),\n",
      " ('메세지', 'NNG'),\n",
      " ('와', 'JKM'),\n",
      " ('함께', 'MAG'),\n",
      " ('설명', 'NNG'),\n",
      " ('을', 'JKO'),\n",
      " ('최대한', 'NNG'),\n",
      " ('상세히', 'MAG'),\n",
      " ('!', 'SF'),\n",
      " ('^^', 'EMO')]\n"
     ]
    }
   ],
   "source": [
    "\"\"\" 한글 형태소\n",
    "    # pip install konlpy\n",
    "    # https://konlpy.org/ko/latest/api/konlpy.tag/#konlpy.tag._kkma.Kkma\n",
    "\"\"\"\n",
    "from konlpy.tag import Kkma\n",
    "from konlpy.utils import pprint\n",
    "kkma = Kkma()\n",
    "pprint(kkma.sentences(u'네, 안녕하세요. 반갑습니다.'), depth=1)  # pprint :  아름답게 들여쓰기\n",
    "pprint(kkma.nouns(u'질문이나 건의사항은 깃헙 이슈 트래커에 남겨주세요.'))\n",
    "pprint(kkma.pos(u'오류보고는 실행환경, 에러메세지와함께 설명을 최대한상세히!^^'))"
   ]
  },
  {
   "cell_type": "code",
   "execution_count": 37,
   "id": "5985fdcd",
   "metadata": {},
   "outputs": [
    {
     "name": "stdout",
     "output_type": "stream",
     "text": [
      "['아이 폰 기다리다 지치어 애플 공 홈에서 언락 폰 질러 버렸다 128 기가 실 벜']\n",
      "['아이',\n",
      " '아이폰',\n",
      " '폰',\n",
      " '애플',\n",
      " '애플공홈',\n",
      " '공',\n",
      " '홈',\n",
      " '언락',\n",
      " '언락폰',\n",
      " '128',\n",
      " '128기가실벜',\n",
      " '기가',\n",
      " '실',\n",
      " '벜']\n",
      "[('아이', 'NNG'),\n",
      " ('폰', 'NNG'),\n",
      " ('기다리', 'VV'),\n",
      " ('다', 'ECS'),\n",
      " ('지치', 'VV'),\n",
      " ('어', 'ECD'),\n",
      " ('애플', 'NNP'),\n",
      " ('공', 'NNG'),\n",
      " ('홈', 'NNG'),\n",
      " ('에서', 'JKM'),\n",
      " ('언락', 'NNG'),\n",
      " ('폰', 'NNG'),\n",
      " ('질르', 'VV'),\n",
      " ('어', 'ECS'),\n",
      " ('버리', 'VXV'),\n",
      " ('었', 'EPT'),\n",
      " ('다', 'ECS'),\n",
      " ('128', 'NR'),\n",
      " ('기가', 'NNG'),\n",
      " ('실', 'NNG'),\n",
      " ('벜', 'UN')]\n",
      "['아이',\n",
      " '폰',\n",
      " '기다리',\n",
      " '다',\n",
      " '지치',\n",
      " '어',\n",
      " '애플',\n",
      " '공',\n",
      " '홈',\n",
      " '에서',\n",
      " '언락',\n",
      " '폰',\n",
      " '질르',\n",
      " '어',\n",
      " '버리',\n",
      " '었',\n",
      " '다',\n",
      " '128',\n",
      " '기가',\n",
      " '실',\n",
      " '벜']\n"
     ]
    }
   ],
   "source": [
    "\"\"\" 형태소 분석 및 품사 태깅\n",
    "    # https://konlpy.org/ko/latest/morph/\n",
    "\"\"\"\n",
    "from konlpy.tag import Kkma\n",
    "from konlpy.utils import pprint\n",
    "kkma = Kkma()\n",
    "verse = \"아이폰 기다리다 지치어 애플공홈에서 언락폰질러버렸다 128기가실벜\"\n",
    "pprint(kkma.sentences(verse), depth=1) # 문장 단위로 끊어본다\n",
    "pprint(kkma.nouns(verse)) # 명사\n",
    "pprint(kkma.pos(verse))    # 구성요소 태깅\n",
    "pprint(kkma.morphs(verse)) # 형태소 단위"
   ]
  },
  {
   "cell_type": "code",
   "execution_count": 2,
   "id": "49d5a616",
   "metadata": {},
   "outputs": [
    {
     "name": "stdout",
     "output_type": "stream",
     "text": [
      "[3, 6, 9, 12]\n",
      "[3, 6, 9, 12]\n"
     ]
    }
   ],
   "source": [
    "\"\"\"\n",
    "    리스트 컴프리헨션 사용하기  https://wikidocs.net/22#_1\n",
    "    : 리스트 안에 for문을 포함하는 리스트 컨프리헨션(List comprehension)\n",
    "\"\"\"\n",
    "a = [1,2,3,4]\n",
    "result = []\n",
    "for num in a:\n",
    "    result.append(num*3)\n",
    "print(result)\n",
    "\n",
    "print(\" 리스트  for문으로 변환\")\n",
    "a = [1,2,3,4]\n",
    "result = [num * 3 for num in a]\n",
    "print(result)"
   ]
  }
 ],
 "metadata": {
  "kernelspec": {
   "display_name": "Python 3 (ipykernel)",
   "language": "python",
   "name": "python3"
  },
  "language_info": {
   "codemirror_mode": {
    "name": "ipython",
    "version": 3
   },
   "file_extension": ".py",
   "mimetype": "text/x-python",
   "name": "python",
   "nbconvert_exporter": "python",
   "pygments_lexer": "ipython3",
   "version": "3.10.6"
  }
 },
 "nbformat": 4,
 "nbformat_minor": 5
}
