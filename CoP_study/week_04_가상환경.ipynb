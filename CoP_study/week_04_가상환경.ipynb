{
 "cells": [
  {
   "cell_type": "code",
   "execution_count": null,
   "id": "57c1fbce",
   "metadata": {},
   "outputs": [],
   "source": [
    "\"\"\"\n",
    "@ 가상환경 만들기 \n",
    "@ 가상환경 내 python 버전 업그레이드\n",
    "\n",
    "\n",
    "(base) PS C:\\Users\\hwkim> d:\n",
    "(base) PS D:\\> cd .\\_________________python\\\n",
    "(base) PS D:\\_________________python> cd .\\jupyter_data\\notebook\\\n",
    "(base) PS D:\\_________________python\\jupyter_data\\notebook> conda info --envs\n",
    "# conda environments:\n",
    "#\n",
    "base                  *  C:\\ProgramData\\Anaconda3\n",
    "jupiter-env              C:\\ProgramData\\Anaconda3\\envs\\jupiter-env\n",
    "main                     C:\\ProgramData\\Anaconda3\\envs\\main\n",
    "py390                    C:\\ProgramData\\Anaconda3\\envs\\py390\n",
    "\n",
    "(base) PS D:\\_________________python\\jupyter_data\\notebook>\n",
    "\n",
    "\n",
    "\n",
    "\n",
    "\n",
    "가상환경 목록\n",
    ">>> conda info --envs\n",
    "\n",
    "가상환경 삭제 \n",
    ">>> conda remove -n 가상환경이름 --all \n",
    "\n",
    "설치 가능 파이썬 버전 확인\n",
    ">>> conda search python\n",
    "\n",
    "가상환경 생성\n",
    ">>> conda create --name 가상환경이름 python=버전\n",
    "\n",
    "(base) conda create --name py390 python=3.9\n",
    "\n",
    "가상환경 활성화 \n",
    "(base) conda activate py390 \n",
    "\n",
    "파이썬 버전 확인\n",
    "(py390) python -V   \n",
    "Python 3.9.15\n",
    "\n",
    "파이썬 버전 업그레이드\n",
    "(py390) PS C:\\Windows\\system32> conda install python=3.10.0\n",
    "(py390) python -V   \n",
    "Python 3.10.0\n",
    "\n",
    "설치된 패키지 확인\n",
    "(py390) conda list\n",
    "\n",
    "\"\"\""
   ]
  }
 ],
 "metadata": {
  "kernelspec": {
   "display_name": "Python 3 (ipykernel)",
   "language": "python",
   "name": "python3"
  },
  "language_info": {
   "codemirror_mode": {
    "name": "ipython",
    "version": 3
   },
   "file_extension": ".py",
   "mimetype": "text/x-python",
   "name": "python",
   "nbconvert_exporter": "python",
   "pygments_lexer": "ipython3",
   "version": "3.10.6"
  }
 },
 "nbformat": 4,
 "nbformat_minor": 5
}
