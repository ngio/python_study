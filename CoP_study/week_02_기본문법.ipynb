"""
2주차 : 파이썬 설치 상태 확인 
        파이썬 모듈 설치하기 - https://docs.python.org/ko/3.7/installing/index.html
        기본문법 고고!   - https://wikidocs.net/11
           시작하기 : https://wikidocs.net/7014
           변수 : https://wikidocs.net/7021
           문자열 1 : https://wikidocs.net/7022
                  2 : https://wikidocs.net/7024
                  3 : https://wikidocs.net/78558
           리스트 1 : https://wikidocs.net/7023
                 2 : https://wikidocs.net/7025
            튜플 : https://wikidocs.net/7027
            딕셔너리 1 : https://wikidocs.net/22000
                    2 : https://wikidocs.net/78563
          
         워드클라우드 만들기
"""


food = "Python's favorite food is perl"
print(food)
multiline = "Life is tooshort\n You need python"
print(multiline)
len(multiline)


#  객체 타입 
print(type([1, 2, 3]))
print(type((1, 2, 3)))
print(type({1, 2, 3}))
print(type({"a": 1}))
print(type(True))
print(type(None))



# 리스트
a = [1,2,3]
print(type(a))  # 데이터 타입 확인

print(a[0])
print(a[2])



# 튜플 tuple
#  튜플을 쓰는 이유는 데이터를 변경할 수 없기 때문
a = (1,2,3,4)
b = 1,2,3,4,3

print(type(a))
print(type(b))
print(a.__class__)  # 속성
print(a[0])
print(b[1])

# 리스트 데이터 변경
a = [1,2,3]
a[0] = 100
print(type(a) , a  )

# 튜플 데이터 변경
b = (1,2,3,4,5)
print(type(b), b )
b[0] = 100
print(type(b), b )



# 세트 / set
# 인덱스가 없고, 중복이 없다. 
a = {1,22,3,4,3,23,25,11,11,11}
print(a)
print(a[0])




# 딕셔너리 
dic = {'a':1, 'b':2, 'c':3}

print(type(dic), dic )
print(dic['a'])
print(dic[0])



a = 1
# type(a)
a.__class__



b = [1,2,3]
type(b)




삼성전자 = 50000
총평가금액 = 삼성전자 * 10
print(총평가금액)
시가총액 = 298000000000000
현재가 = 50000
PER = 15.79
print(시가총액, type(시가총액))
print(현재가, type(현재가))
print(PER, type(PER))




string = "PYTHON"
print(string[::-1])
string = "홀짝홀짝홀짝"
print(string[::2])
print(string[1::2]) 
string = "홀짝홀짝홀짝"
print(string[::2])
print(string[1::2]) string = "PYTHON"
print(string[::-1])
string = "홀짝홀짝홀짝"
print(string[::2])
print(string[1::2]) 
string = "홀짝홀짝홀짝"
print(string[::2])
print(string[1::2]) 


